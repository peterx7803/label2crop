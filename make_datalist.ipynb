{
 "cells": [
  {
   "cell_type": "markdown",
   "metadata": {},
   "source": [
    "# Making Training & Testing Data List"
   ]
  },
  {
   "cell_type": "markdown",
   "metadata": {},
   "source": [
    "# 1. Choose Model Type"
   ]
  },
  {
   "cell_type": "code",
   "execution_count": 1,
   "metadata": {
    "collapsed": true
   },
   "outputs": [],
   "source": [
    "output_path = \"./splits/\"\n",
    "label_path = \"./lab_list.txt\"\n",
    "image_path = \"./images/\""
   ]
  },
  {
   "cell_type": "code",
   "execution_count": 2,
   "metadata": {
    "collapsed": true
   },
   "outputs": [],
   "source": [
    "import os\n",
    "if os.path.isdir(output_path) is False:\n",
    "    os.makedirs(output_path)"
   ]
  },
  {
   "cell_type": "markdown",
   "metadata": {},
   "source": [
    "# 2-1. Write Training & Testing Data List\n",
    "* List All Images\n",
    "* Create \"train.txt\" and \"test.txt\" in folder.\n",
    "* Ranom Pick 90% image path into train.txt and the others into test.txt "
   ]
  },
  {
   "cell_type": "code",
   "execution_count": 3,
   "metadata": {
    "collapsed": false
   },
   "outputs": [
    {
     "name": "stdout",
     "output_type": "stream",
     "text": [
      "train0.txt made\n",
      "test0.txt made\n"
     ]
    }
   ],
   "source": [
    "import random\n",
    "import numpy as np\n",
    "\n",
    "for n in range(0,5):\n",
    "    label = np.loadtxt(label_path,str,\",\")\n",
    "    # if you don't have path.txt ,command \"sudo find ./ -name *.jpg >> path.txt\" in your image directory\n",
    "    fpath = np.loadtxt(image_path + \"path.txt\", str, \",\")\n",
    "    ftest = open(output_path + \"test\"+str(n)+\".txt\", \"w\")\n",
    "    ftrain = open(output_path + \"train\"+str(n)+\".txt\", \"w\")\n",
    "\n",
    "    num_file = 0\n",
    "\n",
    "    while num_file < len(fpath):\n",
    "\n",
    "        chose = random.randint(0,len(fpath)-1)\n",
    "\n",
    "        #print chose\n",
    "        if len(fpath[chose]) == 1: # have picked\n",
    "            continue\n",
    "\n",
    "        info = fpath[chose] + \" \"\n",
    "\n",
    "        cluster = fpath[chose].split(\"/\")[-2]\n",
    "        for i in range(len(label)):\n",
    "            #name = label[i].upper()              #for street_en_pure\n",
    "            #name = str(i)+\"_\"+label[i].upper()   #for duckietown-four-score\n",
    "            name = label[i]                      #for lab_out_validation \n",
    "            #name = str(i)                        #for vgg_dictnet_four_score_selected\n",
    "            if name == cluster:\n",
    "                info += str(i) + \"\\n\"\n",
    "                break             \n",
    "\n",
    "        if num_file < int(len(fpath)*0.9):\n",
    "            ftrain.write(info)        \n",
    "        else:\n",
    "            ftest.write(info)\n",
    "\n",
    "        fpath[chose] = 0\n",
    "        num_file += 1\n",
    "\n",
    "    ftrain.close()\n",
    "    print \"train\"+str(n)+\".txt made\"\n",
    "    ftest.close()\n",
    "    print \"test\"+str(n)+\".txt made\""
   ]
  },
  {
   "cell_type": "markdown",
   "metadata": {},
   "source": [
    "# 2-2. Write only Testing Data List\n",
    "* Pick all image path into train.txt and the others into test.txt "
   ]
  },
  {
   "cell_type": "code",
   "execution_count": 4,
   "metadata": {
    "collapsed": false
   },
   "outputs": [
    {
     "name": "stdout",
     "output_type": "stream",
     "text": [
      "test.txt made\n"
     ]
    }
   ],
   "source": [
    "import random\n",
    "import numpy as np\n",
    "\n",
    "\n",
    "label = np.loadtxt(label_path,str,\",\")\n",
    "# if you don't have path.txt ,command \"sudo find ./ -name *.jpg >> path.txt\" in your image directory\n",
    "fpath = np.loadtxt(image_path + \"path.txt\", str, \",\")\n",
    "ftest = open(output_path + \"test.txt\", \"w\")\n",
    "\n",
    "num_file = 0\n",
    "\n",
    "while num_file < len(fpath):\n",
    "\n",
    "    chose = random.randint(0,len(fpath)-1)\n",
    "\n",
    "    #print chose\n",
    "    if len(fpath[chose]) == 1: # have picked\n",
    "        continue\n",
    "\n",
    "    info = fpath[chose] + \" \"\n",
    "\n",
    "    cluster = fpath[chose].split(\"/\")[-2]\n",
    "    for i in range(len(label)):\n",
    "        #name = str(i)+\"_\"+label[i].upper()    #for duckietown-four-score\n",
    "        #name = label[i]                      #for lab_out_validation \n",
    "        #name = str(i)                        #for vgg_dictnet_four_score_selected\n",
    "        name = label[i].upper()\n",
    "        if name == cluster:\n",
    "            info += str(i) + \"\\n\"\n",
    "            break             \n",
    "\n",
    "    ftest.write(info)\n",
    "\n",
    "    fpath[chose] = 0\n",
    "    num_file += 1\n",
    "\n",
    "ftest.close()\n",
    "print \"test.txt made\""
   ]
  },
  {
   "cell_type": "code",
   "execution_count": null,
   "metadata": {
    "collapsed": true
   },
   "outputs": [],
   "source": []
  },
  {
   "cell_type": "code",
   "execution_count": null,
   "metadata": {
    "collapsed": true
   },
   "outputs": [],
   "source": []
  },
  {
   "cell_type": "code",
   "execution_count": null,
   "metadata": {
    "collapsed": true
   },
   "outputs": [],
   "source": []
  },
  {
   "cell_type": "code",
   "execution_count": null,
   "metadata": {
    "collapsed": true
   },
   "outputs": [],
   "source": []
  },
  {
   "cell_type": "code",
   "execution_count": null,
   "metadata": {
    "collapsed": true
   },
   "outputs": [],
   "source": []
  },
  {
   "cell_type": "code",
   "execution_count": null,
   "metadata": {
    "collapsed": true
   },
   "outputs": [],
   "source": []
  }
 ],
 "metadata": {
  "anaconda-cloud": {},
  "description": "Define, train, and test the classic LeNet with the Python interface.",
  "example_name": "Learning LeNet",
  "include_in_docs": true,
  "kernelspec": {
   "display_name": "Python [default]",
   "language": "python",
   "name": "python2"
  },
  "language_info": {
   "codemirror_mode": {
    "name": "ipython",
    "version": 2
   },
   "file_extension": ".py",
   "mimetype": "text/x-python",
   "name": "python",
   "nbconvert_exporter": "python",
   "pygments_lexer": "ipython2",
   "version": "2.7.12"
  },
  "priority": 2
 },
 "nbformat": 4,
 "nbformat_minor": 0
}
