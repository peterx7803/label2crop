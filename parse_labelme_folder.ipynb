{
 "cells": [
  {
   "cell_type": "markdown",
   "metadata": {},
   "source": [
    "# Parse LabelMe Annotations and Images"
   ]
  },
  {
   "cell_type": "markdown",
   "metadata": {},
   "source": [
    "# 1. Import Essential Libraries"
   ]
  },
  {
   "cell_type": "code",
   "execution_count": 1,
   "metadata": {},
   "outputs": [],
   "source": [
    "import numpy as np\n",
    "import os\n",
    "from PIL import Image, ImageDraw\n",
    "import cv2\n",
    "import xmltodict\n",
    "import sys"
   ]
  },
  {
   "cell_type": "markdown",
   "metadata": {},
   "source": [
    "# 2. Single Image Parsing"
   ]
  },
  {
   "cell_type": "code",
   "execution_count": 58,
   "metadata": {},
   "outputs": [],
   "source": [
    "def xml2dict(xml_path, product):\n",
    "        print xml_path\n",
    "        file_exist = os.path.isfile(xml_path)    # True\n",
    "        # print xml_path\n",
    "        pts = []\n",
    "        xpts = []\n",
    "        ypts = []\n",
    "\n",
    "        if file_exist:\n",
    "\n",
    "                with open(xml_path) as fd:\n",
    "                        label_dict = xmltodict.parse(fd.read())\n",
    "        else:\n",
    "                return file_exist, xpts, ypts\n",
    "\n",
    "\n",
    "\n",
    "        try:\n",
    "                for object_ in label_dict['annotation']['object']:\n",
    "                        if object_['name'] == product  and object_['deleted'] == '0':\n",
    "                                pts.append(object_['polygon']['pt'])\n",
    "\n",
    "                                for pts_idx in range(0,len(object_['polygon']['pt'])):\n",
    "                                        xpts.append(int(object_['polygon']['pt'][pts_idx]['x']))\n",
    "                                        ypts.append(int(object_['polygon']['pt'][pts_idx]['y']))\n",
    "\n",
    "                                return file_exist, xpts,ypts\n",
    "\n",
    "        except:\n",
    "\n",
    "                try: ## xml exist and have label\n",
    "                        object_ = label_dict['annotation']['object']\n",
    "                        #print object_\n",
    "                        if object_['name'] == product  and object_['deleted'] == '0':\n",
    "\n",
    "                                #print object_['polygon']['pt']                 \n",
    "                                pts.append(object_['polygon']['pt'])\n",
    "                                # print pts\n",
    "                                for pts_idx in range(0,len(object_['polygon']['pt'])):\n",
    "                                        xpts.append(int(object_['polygon']['pt'][pts_idx]['x']))\n",
    "                                        ypts.append(int(object_['polygon']['pt'][pts_idx]['y']))\n",
    "                                print \"2\"\n",
    "                                return file_exist, xpts,ypts\n",
    "\n",
    "\n",
    "                        else: #xml exist, labeld has been deleted\n",
    "                                print \"xml exist, labeld has been deleted\"\n",
    "                                xpts = []\n",
    "                                ypts = []\n",
    "                                file_exist = False\n",
    "                                return file_exist, xpts, ypts\n",
    "\n",
    "\n",
    "\n",
    "\n",
    "                except: ## xml exist, but no label polygon\n",
    "                        xpts = []\n",
    "                        ypts = []\n",
    "                        file_exist = False\n",
    "                        print \"no xml\"\n",
    "                        return file_exist, xpts, ypts\n",
    "\n",
    "\n",
    "        else:\n",
    "                file_exist = False\n",
    "                return file_exist, xpts, ypts\n",
    "\n",
    "# This function help you to prepare polygon format needed by PIL.\n",
    "def merge_x_y_pts(file_exist, xpts, ypts):\n",
    "        mixed_x_y = []\n",
    "        if file_exist:\n",
    "                for pt_idx in range(0,len(xpts)):\n",
    "                        mixed_x_y.append(xpts[pt_idx])\n",
    "                        mixed_x_y.append(ypts[pt_idx])\n",
    "\n",
    "        return mixed_x_y\n",
    "\n",
    "\n",
    "\n",
    "# This function help you to return a mask, In this mask, only the pixels in bounding box area are set to 255, other pixels are set to 0.\n",
    "def poly2mask(mixed_x_y, fill_value=255):\n",
    "        width = 640\n",
    "        height = 480\n",
    "        img = Image.new('L', (width, height), 0)\n",
    "        ImageDraw.Draw(img).polygon(mixed_x_y, outline=1, fill=fill_value)\n",
    "        mask = np.array(img)\n",
    "        return mask\n",
    "\n",
    "\n",
    "# This function help you to crop mask area from original iamge.\n",
    "def mask_image_crop(mask, img):\n",
    "        H = 480\n",
    "        W = 640\n",
    "        min_x = 0\n",
    "        min_y = 0\n",
    "        max_x = 0\n",
    "        max_y = 0\n",
    "\n",
    "        isarea = False\n",
    "        area = np.nonzero(mask)\n",
    "\n",
    "        if len(area[0]) is 0 and len(area[1]) is 0:\n",
    "\n",
    "                return isarea, area\n",
    "\n",
    "        else:\n",
    "                isarea = True\n",
    "                min_x = min(area[1])\n",
    "                min_y = min(area[0])\n",
    "                max_x = max(area[1])\n",
    "                max_y = max(area[0])\n",
    "                print min_x,min_y\n",
    "                print max_x,max_y\n",
    "\n",
    "                crop_h = max_y - min_y\n",
    "                crop_w = max_x - min_x\n",
    "\n",
    "                crop_img = img[min_y:min_y + crop_h, min_x:min_x + crop_w]\n",
    "                return isarea, crop_img\n",
    "\n",
    "\n"
   ]
  },
  {
   "cell_type": "markdown",
   "metadata": {},
   "source": [
    "# 3. Setup Path of Annotations, Images, Output, and Classes"
   ]
  },
  {
   "cell_type": "markdown",
   "metadata": {},
   "source": [
    "* modified three folder pathes and clsses depending on your case"
   ]
  },
  {
   "cell_type": "code",
   "execution_count": 27,
   "metadata": {},
   "outputs": [],
   "source": [
    "annotations_path = '/home/arg_ws2/robotx_brianchuang/data/placard/robotx_duckietown_wama_0/Annotations/users/argrobotx/robotx_duckietown/wama_0'\n",
    "images_path = '/home/arg_ws2/robotx_brianchuang/data/placard/robotx_duckietown_wama_0/Images/users/argrobotx/robotx_duckietown/wama_0'\n",
    "output_cropped_images_path= '/home/arg_ws2/robotx_brianchuang/data/placard/robotx_duckietown_wama_0/Cropped_Images'\n",
    "class_name = ['blue_circle','green_triangle','red_cross']"
   ]
  },
  {
   "cell_type": "markdown",
   "metadata": {},
   "source": [
    "# 4. Create Folders of Cropped Images"
   ]
  },
  {
   "cell_type": "code",
   "execution_count": 28,
   "metadata": {},
   "outputs": [
    {
     "name": "stdout",
     "output_type": "stream",
     "text": [
      "/home/arg_ws2/robotx_brianchuang/data/placard/robotx_duckietown_wama_0/Cropped_Images/blue_circle  exists\n",
      "/home/arg_ws2/robotx_brianchuang/data/placard/robotx_duckietown_wama_0/Cropped_Images/green_triangle  exists\n",
      "/home/arg_ws2/robotx_brianchuang/data/placard/robotx_duckietown_wama_0/Cropped_Images/red_cross  exists\n",
      "['/home/arg_ws2/robotx_brianchuang/data/placard/robotx_duckietown_wama_0/Cropped_Images/blue_circle/', '/home/arg_ws2/robotx_brianchuang/data/placard/robotx_duckietown_wama_0/Cropped_Images/green_triangle/', '/home/arg_ws2/robotx_brianchuang/data/placard/robotx_duckietown_wama_0/Cropped_Images/red_cross/']\n"
     ]
    }
   ],
   "source": [
    "cropped_image_class_path = []\n",
    "for i in range(len(class_name)):\n",
    "    directory_path = output_cropped_images_path + '/' + class_name[i] + '/'\n",
    "    directory = os.path.dirname(directory_path)\n",
    "    try:\n",
    "        os.stat(directory)\n",
    "        print directory, ' exists'\n",
    "    except:\n",
    "        os.mkdir(directory)\n",
    "        print 'creat ', directory\n",
    "    cropped_image_class_path.append(directory_path)\n"
   ]
  },
  {
   "cell_type": "markdown",
   "metadata": {},
   "source": [
    "# 5. Start Parsing Images and xml files"
   ]
  },
  {
   "cell_type": "code",
   "execution_count": null,
   "metadata": {
    "scrolled": false
   },
   "outputs": [],
   "source": [
    "for image_file in os.listdir(images_path):\n",
    "    find_xml = False\n",
    "    xml_path = '/home/arg_ws2/robotx_brianchuang/label2crop/wama_45_0000.xml'\n",
    "    img_path = images_path + '/' + image_file\n",
    "    image_file_split = image_file.split('.')\n",
    "    xml_file = image_file_split[0] + '.xml'\n",
    "\n",
    "    # find relevant annotation file\n",
    "    for annotation_file in os.listdir(annotations_path):\n",
    "        if xml_file == annotation_file:\n",
    "            find_xml = True\n",
    "            xml_path = annotations_path + '/' + annotation_file'\n",
    "    \n",
    "    if find_xml == True:\n",
    "        img = cv2.imread(img_path)\n",
    "        for i in range(len(class_name)):\n",
    "            \n",
    "            cropped_path = cropped_image_class_path[i] + '/' + image_file_split[0] + '_' + class_name[i] + '.jpg'\n",
    "\n",
    "            file_exist, xpts, ypts = xml2dict(xml_path, class_name[i])\n",
    "            print file_exist\n",
    "            print xpts, ypts\n",
    "            mixed_x_y = merge_x_y_pts(file_exist, xpts, ypts)\n",
    "            mask = poly2mask(mixed_x_y, fill_value=255)\n",
    "            isarea, cropped = mask_image_crop(mask, img)\n",
    "\n",
    "            if isarea is True:\n",
    "                    print \"write to %s\" %(cropped_path)\n",
    "                    cv2.imwrite(cropped_path, cropped)            \n",
    "    "
   ]
  }
 ],
 "metadata": {
  "anaconda-cloud": {},
  "description": "Define, train, and test the classic LeNet with the Python interface.",
  "example_name": "Learning LeNet",
  "include_in_docs": true,
  "kernelspec": {
   "display_name": "Python 2",
   "language": "python",
   "name": "python2"
  },
  "language_info": {
   "codemirror_mode": {
    "name": "ipython",
    "version": 2
   },
   "file_extension": ".py",
   "mimetype": "text/x-python",
   "name": "python",
   "nbconvert_exporter": "python",
   "pygments_lexer": "ipython2",
   "version": "2.7.12"
  },
  "priority": 2
 },
 "nbformat": 4,
 "nbformat_minor": 1
}
